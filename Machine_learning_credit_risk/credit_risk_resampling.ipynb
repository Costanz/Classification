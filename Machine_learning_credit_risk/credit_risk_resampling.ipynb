{
 "cells": [
  {
   "cell_type": "code",
   "execution_count": 44,
   "metadata": {},
   "outputs": [],
   "source": [
    "# Credit Risk Resampling Techniques"
   ]
  },
  {
   "cell_type": "code",
   "execution_count": 45,
   "metadata": {},
   "outputs": [],
   "source": [
    "import warnings\n",
    "warnings.filterwarnings('ignore')"
   ]
  },
  {
   "cell_type": "code",
   "execution_count": 46,
   "metadata": {},
   "outputs": [],
   "source": [
    "import numpy as np\n",
    "import pandas as pd\n",
    "from pathlib import Path\n",
    "from collections import Counter\n",
    "import calendar\n"
   ]
  },
  {
   "cell_type": "markdown",
   "metadata": {},
   "source": [
    "# Read the CSV and Perform Basic Data Cleaning"
   ]
  },
  {
   "cell_type": "code",
   "execution_count": 47,
   "metadata": {},
   "outputs": [],
   "source": [
    "columns = [\n",
    "    \"loan_amnt\", \"int_rate\", \"installment\", \"home_ownership\",\n",
    "    \"annual_inc\", \"verification_status\", \"issue_d\", \"loan_status\",\n",
    "    \"pymnt_plan\", \"dti\", \"delinq_2yrs\", \"inq_last_6mths\",\n",
    "    \"open_acc\", \"pub_rec\", \"revol_bal\", \"total_acc\",\n",
    "    \"initial_list_status\", \"out_prncp\", \"out_prncp_inv\", \"total_pymnt\",\n",
    "    \"total_pymnt_inv\", \"total_rec_prncp\", \"total_rec_int\", \"total_rec_late_fee\",\n",
    "    \"recoveries\", \"collection_recovery_fee\", \"last_pymnt_amnt\", \"next_pymnt_d\",\n",
    "    \"collections_12_mths_ex_med\", \"policy_code\", \"application_type\", \"acc_now_delinq\",\n",
    "    \"tot_coll_amt\", \"tot_cur_bal\", \"open_acc_6m\", \"open_act_il\",\n",
    "    \"open_il_12m\", \"open_il_24m\", \"mths_since_rcnt_il\", \"total_bal_il\",\n",
    "    \"il_util\", \"open_rv_12m\", \"open_rv_24m\", \"max_bal_bc\",\n",
    "    \"all_util\", \"total_rev_hi_lim\", \"inq_fi\", \"total_cu_tl\",\n",
    "    \"inq_last_12m\", \"acc_open_past_24mths\", \"avg_cur_bal\", \"bc_open_to_buy\",\n",
    "    \"bc_util\", \"chargeoff_within_12_mths\", \"delinq_amnt\", \"mo_sin_old_il_acct\",\n",
    "    \"mo_sin_old_rev_tl_op\", \"mo_sin_rcnt_rev_tl_op\", \"mo_sin_rcnt_tl\", \"mort_acc\",\n",
    "    \"mths_since_recent_bc\", \"mths_since_recent_inq\", \"num_accts_ever_120_pd\", \"num_actv_bc_tl\",\n",
    "    \"num_actv_rev_tl\", \"num_bc_sats\", \"num_bc_tl\", \"num_il_tl\",\n",
    "    \"num_op_rev_tl\", \"num_rev_accts\", \"num_rev_tl_bal_gt_0\",\n",
    "    \"num_sats\", \"num_tl_120dpd_2m\", \"num_tl_30dpd\", \"num_tl_90g_dpd_24m\",\n",
    "    \"num_tl_op_past_12m\", \"pct_tl_nvr_dlq\", \"percent_bc_gt_75\", \"pub_rec_bankruptcies\",\n",
    "    \"tax_liens\", \"tot_hi_cred_lim\", \"total_bal_ex_mort\", \"total_bc_limit\",\n",
    "    \"total_il_high_credit_limit\", \"hardship_flag\", \"debt_settlement_flag\"\n",
    "]\n",
    "\n",
    "target = [\"loan_status\"]"
   ]
  },
  {
   "cell_type": "code",
   "execution_count": 48,
   "metadata": {},
   "outputs": [
    {
     "output_type": "execute_result",
     "data": {
      "text/plain": "       loan_amnt  int_rate  installment home_ownership  annual_inc  \\\n68812    10000.0    0.1502       346.76           RENT     26000.0   \n68813    12000.0    0.2727       368.37           RENT     63000.0   \n68814     5000.0    0.1992       185.62       MORTGAGE     52000.0   \n68815    40000.0    0.0646      1225.24       MORTGAGE    520000.0   \n68816    16000.0    0.1131       350.36       MORTGAGE     72000.0   \n\n      verification_status   issue_d loan_status pymnt_plan    dti  ...  \\\n68812     Source Verified  Jan-2019    low_risk          n   9.60  ...   \n68813        Not Verified  Jan-2019    low_risk          n  29.07  ...   \n68814     Source Verified  Jan-2019    low_risk          n  14.86  ...   \n68815            Verified  Jan-2019    low_risk          n   9.96  ...   \n68816            Verified  Jan-2019    low_risk          n   7.02  ...   \n\n       pct_tl_nvr_dlq  percent_bc_gt_75  pub_rec_bankruptcies  tax_liens  \\\n68812            80.0               0.0                   0.0        0.0   \n68813            96.2               0.0                   0.0        0.0   \n68814           100.0               0.0                   1.0        0.0   \n68815            98.2              12.5                   0.0        0.0   \n68816            94.3               0.0                   1.0        0.0   \n\n       tot_hi_cred_lim  total_bal_ex_mort total_bc_limit  \\\n68812          20625.0             6798.0        11300.0   \n68813          87939.0            60350.0        13500.0   \n68814          30592.0            18611.0         3600.0   \n68815        1033574.0            95958.0       100800.0   \n68816         251486.0            74835.0        23000.0   \n\n       total_il_high_credit_limit  hardship_flag  debt_settlement_flag  \n68812                      5425.0              N                     N  \n68813                     62939.0              N                     N  \n68814                     18492.0              N                     N  \n68815                     78634.0              N                     N  \n68816                     63090.0              N                     N  \n\n[5 rows x 86 columns]",
      "text/html": "<div>\n<style scoped>\n    .dataframe tbody tr th:only-of-type {\n        vertical-align: middle;\n    }\n\n    .dataframe tbody tr th {\n        vertical-align: top;\n    }\n\n    .dataframe thead th {\n        text-align: right;\n    }\n</style>\n<table border=\"1\" class=\"dataframe\">\n  <thead>\n    <tr style=\"text-align: right;\">\n      <th></th>\n      <th>loan_amnt</th>\n      <th>int_rate</th>\n      <th>installment</th>\n      <th>home_ownership</th>\n      <th>annual_inc</th>\n      <th>verification_status</th>\n      <th>issue_d</th>\n      <th>loan_status</th>\n      <th>pymnt_plan</th>\n      <th>dti</th>\n      <th>...</th>\n      <th>pct_tl_nvr_dlq</th>\n      <th>percent_bc_gt_75</th>\n      <th>pub_rec_bankruptcies</th>\n      <th>tax_liens</th>\n      <th>tot_hi_cred_lim</th>\n      <th>total_bal_ex_mort</th>\n      <th>total_bc_limit</th>\n      <th>total_il_high_credit_limit</th>\n      <th>hardship_flag</th>\n      <th>debt_settlement_flag</th>\n    </tr>\n  </thead>\n  <tbody>\n    <tr>\n      <th>68812</th>\n      <td>10000.0</td>\n      <td>0.1502</td>\n      <td>346.76</td>\n      <td>RENT</td>\n      <td>26000.0</td>\n      <td>Source Verified</td>\n      <td>Jan-2019</td>\n      <td>low_risk</td>\n      <td>n</td>\n      <td>9.60</td>\n      <td>...</td>\n      <td>80.0</td>\n      <td>0.0</td>\n      <td>0.0</td>\n      <td>0.0</td>\n      <td>20625.0</td>\n      <td>6798.0</td>\n      <td>11300.0</td>\n      <td>5425.0</td>\n      <td>N</td>\n      <td>N</td>\n    </tr>\n    <tr>\n      <th>68813</th>\n      <td>12000.0</td>\n      <td>0.2727</td>\n      <td>368.37</td>\n      <td>RENT</td>\n      <td>63000.0</td>\n      <td>Not Verified</td>\n      <td>Jan-2019</td>\n      <td>low_risk</td>\n      <td>n</td>\n      <td>29.07</td>\n      <td>...</td>\n      <td>96.2</td>\n      <td>0.0</td>\n      <td>0.0</td>\n      <td>0.0</td>\n      <td>87939.0</td>\n      <td>60350.0</td>\n      <td>13500.0</td>\n      <td>62939.0</td>\n      <td>N</td>\n      <td>N</td>\n    </tr>\n    <tr>\n      <th>68814</th>\n      <td>5000.0</td>\n      <td>0.1992</td>\n      <td>185.62</td>\n      <td>MORTGAGE</td>\n      <td>52000.0</td>\n      <td>Source Verified</td>\n      <td>Jan-2019</td>\n      <td>low_risk</td>\n      <td>n</td>\n      <td>14.86</td>\n      <td>...</td>\n      <td>100.0</td>\n      <td>0.0</td>\n      <td>1.0</td>\n      <td>0.0</td>\n      <td>30592.0</td>\n      <td>18611.0</td>\n      <td>3600.0</td>\n      <td>18492.0</td>\n      <td>N</td>\n      <td>N</td>\n    </tr>\n    <tr>\n      <th>68815</th>\n      <td>40000.0</td>\n      <td>0.0646</td>\n      <td>1225.24</td>\n      <td>MORTGAGE</td>\n      <td>520000.0</td>\n      <td>Verified</td>\n      <td>Jan-2019</td>\n      <td>low_risk</td>\n      <td>n</td>\n      <td>9.96</td>\n      <td>...</td>\n      <td>98.2</td>\n      <td>12.5</td>\n      <td>0.0</td>\n      <td>0.0</td>\n      <td>1033574.0</td>\n      <td>95958.0</td>\n      <td>100800.0</td>\n      <td>78634.0</td>\n      <td>N</td>\n      <td>N</td>\n    </tr>\n    <tr>\n      <th>68816</th>\n      <td>16000.0</td>\n      <td>0.1131</td>\n      <td>350.36</td>\n      <td>MORTGAGE</td>\n      <td>72000.0</td>\n      <td>Verified</td>\n      <td>Jan-2019</td>\n      <td>low_risk</td>\n      <td>n</td>\n      <td>7.02</td>\n      <td>...</td>\n      <td>94.3</td>\n      <td>0.0</td>\n      <td>1.0</td>\n      <td>0.0</td>\n      <td>251486.0</td>\n      <td>74835.0</td>\n      <td>23000.0</td>\n      <td>63090.0</td>\n      <td>N</td>\n      <td>N</td>\n    </tr>\n  </tbody>\n</table>\n<p>5 rows × 86 columns</p>\n</div>"
     },
     "metadata": {},
     "execution_count": 48
    }
   ],
   "source": [
    "# Load the data\n",
    "file_path = Path('../Resources/LoanStats_2019Q1.csv.zip')\n",
    "df = pd.read_csv(file_path, skiprows=1)[:-2]\n",
    "df = df.loc[:, columns].copy()\n",
    "\n",
    "# Drop the null columns where all values are null\n",
    "df = df.dropna(axis='columns', how='all')\n",
    "\n",
    "# Drop the null rows\n",
    "df = df.dropna()\n",
    "\n",
    "# Remove the `Issued` loan status\n",
    "issued_mask = df['loan_status'] != 'Issued'\n",
    "df = df.loc[issued_mask]\n",
    "\n",
    "# convert interest rate to numerical\n",
    "df['int_rate'] = df['int_rate'].str.replace('%', '')\n",
    "df['int_rate'] = df['int_rate'].astype('float') / 100\n",
    "\n",
    "\n",
    "# Convert the target column values to low_risk and high_risk based on their values\n",
    "x = {'Current': 'low_risk'}   \n",
    "df = df.replace(x)\n",
    "\n",
    "x = dict.fromkeys(['Late (31-120 days)', 'Late (16-30 days)', 'Default', 'In Grace Period'], 'high_risk')    \n",
    "df = df.replace(x)\n",
    "\n",
    "df.reset_index(inplace=True, drop=True)\n",
    "\n",
    "df.tail()"
   ]
  },
  {
   "cell_type": "markdown",
   "metadata": {},
   "source": [
    "# Split the Data into Training and Testing"
   ]
  },
  {
   "cell_type": "code",
   "execution_count": 57,
   "metadata": {},
   "outputs": [
    {
     "output_type": "execute_result",
     "data": {
      "text/plain": "   loan_amnt  int_rate  installment  annual_inc    dti  delinq_2yrs  \\\n0    10500.0    0.1719       375.35     66000.0  27.24          0.0   \n1    25000.0    0.2000       929.09    105000.0  20.23          0.0   \n2    20000.0    0.2000       529.88     56000.0  24.26          0.0   \n3    10000.0    0.1640       353.55     92000.0  31.44          0.0   \n4    22000.0    0.1474       520.39     52000.0  18.76          0.0   \n\n   inq_last_6mths  open_acc  pub_rec  revol_bal  ...  \\\n0             0.0       8.0      0.0     1609.0  ...   \n1             0.0      17.0      1.0    18368.0  ...   \n2             0.0       8.0      0.0    13247.0  ...   \n3             1.0      10.0      1.0    17996.0  ...   \n4             1.0      14.0      0.0     9091.0  ...   \n\n   verification_status_Not Verified  verification_status_Source Verified  \\\n0                                 0                                    1   \n1                                 0                                    0   \n2                                 0                                    0   \n3                                 0                                    0   \n4                                 1                                    0   \n\n   verification_status_Verified  pymnt_plan_n  hardship_flag_N  \\\n0                             0             1                1   \n1                             1             1                1   \n2                             1             1                1   \n3                             1             1                1   \n4                             0             1                1   \n\n   debt_settlement_flag_N  initial_list_status_f  initial_list_status_w  \\\n0                       1                      0                      1   \n1                       1                      0                      1   \n2                       1                      0                      1   \n3                       1                      0                      1   \n4                       1                      0                      1   \n\n   issue_d_le  next_pymnt_d_le  \n0           3                5  \n1           3                5  \n2           3                5  \n3           3                5  \n4           3                5  \n\n[5 rows x 92 columns]",
      "text/html": "<div>\n<style scoped>\n    .dataframe tbody tr th:only-of-type {\n        vertical-align: middle;\n    }\n\n    .dataframe tbody tr th {\n        vertical-align: top;\n    }\n\n    .dataframe thead th {\n        text-align: right;\n    }\n</style>\n<table border=\"1\" class=\"dataframe\">\n  <thead>\n    <tr style=\"text-align: right;\">\n      <th></th>\n      <th>loan_amnt</th>\n      <th>int_rate</th>\n      <th>installment</th>\n      <th>annual_inc</th>\n      <th>dti</th>\n      <th>delinq_2yrs</th>\n      <th>inq_last_6mths</th>\n      <th>open_acc</th>\n      <th>pub_rec</th>\n      <th>revol_bal</th>\n      <th>...</th>\n      <th>verification_status_Not Verified</th>\n      <th>verification_status_Source Verified</th>\n      <th>verification_status_Verified</th>\n      <th>pymnt_plan_n</th>\n      <th>hardship_flag_N</th>\n      <th>debt_settlement_flag_N</th>\n      <th>initial_list_status_f</th>\n      <th>initial_list_status_w</th>\n      <th>issue_d_le</th>\n      <th>next_pymnt_d_le</th>\n    </tr>\n  </thead>\n  <tbody>\n    <tr>\n      <th>0</th>\n      <td>10500.0</td>\n      <td>0.1719</td>\n      <td>375.35</td>\n      <td>66000.0</td>\n      <td>27.24</td>\n      <td>0.0</td>\n      <td>0.0</td>\n      <td>8.0</td>\n      <td>0.0</td>\n      <td>1609.0</td>\n      <td>...</td>\n      <td>0</td>\n      <td>1</td>\n      <td>0</td>\n      <td>1</td>\n      <td>1</td>\n      <td>1</td>\n      <td>0</td>\n      <td>1</td>\n      <td>3</td>\n      <td>5</td>\n    </tr>\n    <tr>\n      <th>1</th>\n      <td>25000.0</td>\n      <td>0.2000</td>\n      <td>929.09</td>\n      <td>105000.0</td>\n      <td>20.23</td>\n      <td>0.0</td>\n      <td>0.0</td>\n      <td>17.0</td>\n      <td>1.0</td>\n      <td>18368.0</td>\n      <td>...</td>\n      <td>0</td>\n      <td>0</td>\n      <td>1</td>\n      <td>1</td>\n      <td>1</td>\n      <td>1</td>\n      <td>0</td>\n      <td>1</td>\n      <td>3</td>\n      <td>5</td>\n    </tr>\n    <tr>\n      <th>2</th>\n      <td>20000.0</td>\n      <td>0.2000</td>\n      <td>529.88</td>\n      <td>56000.0</td>\n      <td>24.26</td>\n      <td>0.0</td>\n      <td>0.0</td>\n      <td>8.0</td>\n      <td>0.0</td>\n      <td>13247.0</td>\n      <td>...</td>\n      <td>0</td>\n      <td>0</td>\n      <td>1</td>\n      <td>1</td>\n      <td>1</td>\n      <td>1</td>\n      <td>0</td>\n      <td>1</td>\n      <td>3</td>\n      <td>5</td>\n    </tr>\n    <tr>\n      <th>3</th>\n      <td>10000.0</td>\n      <td>0.1640</td>\n      <td>353.55</td>\n      <td>92000.0</td>\n      <td>31.44</td>\n      <td>0.0</td>\n      <td>1.0</td>\n      <td>10.0</td>\n      <td>1.0</td>\n      <td>17996.0</td>\n      <td>...</td>\n      <td>0</td>\n      <td>0</td>\n      <td>1</td>\n      <td>1</td>\n      <td>1</td>\n      <td>1</td>\n      <td>0</td>\n      <td>1</td>\n      <td>3</td>\n      <td>5</td>\n    </tr>\n    <tr>\n      <th>4</th>\n      <td>22000.0</td>\n      <td>0.1474</td>\n      <td>520.39</td>\n      <td>52000.0</td>\n      <td>18.76</td>\n      <td>0.0</td>\n      <td>1.0</td>\n      <td>14.0</td>\n      <td>0.0</td>\n      <td>9091.0</td>\n      <td>...</td>\n      <td>1</td>\n      <td>0</td>\n      <td>0</td>\n      <td>1</td>\n      <td>1</td>\n      <td>1</td>\n      <td>0</td>\n      <td>1</td>\n      <td>3</td>\n      <td>5</td>\n    </tr>\n  </tbody>\n</table>\n<p>5 rows × 92 columns</p>\n</div>"
     },
     "metadata": {},
     "execution_count": 57
    }
   ],
   "source": [
    "\n",
    "# Create our features\n",
    "from sklearn.preprocessing import LabelEncoder, StandardScaler\n",
    "\n",
    "# x_cols = [i for i in df.columns if i not in ('loan_status')]\n",
    "# X = df[x_cols]\n",
    "\n",
    "y = df[\"loan_status\"]\n",
    "X = df.drop(columns=\"loan_status\")\n",
    "\n",
    "#encode columns with categorical data with get dummies\n",
    "X = pd.get_dummies(X, columns=[\"application_type\", \"home_ownership\", \"verification_status\", 'pymnt_plan', 'hardship_flag', 'debt_settlement_flag', 'initial_list_status'])\n",
    "\n",
    "#encode columns with dates\n",
    "\n",
    "label_encoder = LabelEncoder()\n",
    "label_encoder.fit(X[\"issue_d\"])\n",
    "LabelEncoder()\n",
    "\n",
    "months_num = {\n",
    "    \"Jan-2019\": 1,\n",
    "    \"Feb-2019\": 2,\n",
    "    \"Mar-2019\": 3\n",
    "}\n",
    "X[\"issue_d_le\"] = X[\"issue_d\"].apply(lambda x: months_num[x])\n",
    "X.drop([\"issue_d\"], axis=1, inplace=True)\n",
    "X.head()\n",
    "\n",
    "label_encoder = LabelEncoder()\n",
    "label_encoder.fit(X[\"next_pymnt_d\"])\n",
    "LabelEncoder()\n",
    "\n",
    "months_num = {\n",
    "    \"Apr-2019\": 4,\n",
    "    \"May-2019\": 5,\n",
    "}\n",
    "\n",
    "X[\"next_pymnt_d_le\"] = X[\"next_pymnt_d\"].apply(lambda x: months_num[x])\n",
    "X.drop([\"next_pymnt_d\"], axis=1, inplace=True)\n",
    "X.head()\n",
    "\n",
    "# Create our target\n",
    "#y = df[['loan_status']]\n",
    "#list(label_encoder.classes_)"
   ]
  },
  {
   "cell_type": "code",
   "execution_count": 58,
   "metadata": {},
   "outputs": [
    {
     "output_type": "execute_result",
     "data": {
      "text/plain": "          loan_amnt      int_rate   installment    annual_inc           dti  \\\ncount  68817.000000  68817.000000  68817.000000  6.881700e+04  68817.000000   \nmean   16677.594562      0.127718    480.652863  8.821371e+04     21.778153   \nstd    10277.348590      0.048130    288.062432  1.155800e+05     20.199244   \nmin     1000.000000      0.060000     30.890000  4.000000e+01      0.000000   \n25%     9000.000000      0.088100    265.730000  5.000000e+04     13.890000   \n50%    15000.000000      0.118000    404.560000  7.300000e+04     19.760000   \n75%    24000.000000      0.155700    648.100000  1.040000e+05     26.660000   \nmax    40000.000000      0.308400   1676.230000  8.797500e+06    999.000000   \n\n        delinq_2yrs  inq_last_6mths      open_acc       pub_rec  \\\ncount  68817.000000    68817.000000  68817.000000  68817.000000   \nmean       0.217766        0.497697     12.587340      0.126030   \nstd        0.718367        0.758122      6.022869      0.336797   \nmin        0.000000        0.000000      2.000000      0.000000   \n25%        0.000000        0.000000      8.000000      0.000000   \n50%        0.000000        0.000000     11.000000      0.000000   \n75%        0.000000        1.000000     16.000000      0.000000   \nmax       18.000000        5.000000     72.000000      4.000000   \n\n           revol_bal  ...  verification_status_Not Verified  \\\ncount   68817.000000  ...                      68817.000000   \nmean    17604.142828  ...                          0.478007   \nstd     21835.880400  ...                          0.499520   \nmin         0.000000  ...                          0.000000   \n25%      6293.000000  ...                          0.000000   \n50%     12068.000000  ...                          0.000000   \n75%     21735.000000  ...                          1.000000   \nmax    587191.000000  ...                          1.000000   \n\n       verification_status_Source Verified  verification_status_Verified  \\\ncount                         68817.000000                  68817.000000   \nmean                              0.373992                      0.148001   \nstd                               0.483865                      0.355104   \nmin                               0.000000                      0.000000   \n25%                               0.000000                      0.000000   \n50%                               0.000000                      0.000000   \n75%                               1.000000                      0.000000   \nmax                               1.000000                      1.000000   \n\n       pymnt_plan_n  hardship_flag_N  debt_settlement_flag_N  \\\ncount       68817.0          68817.0                 68817.0   \nmean            1.0              1.0                     1.0   \nstd             0.0              0.0                     0.0   \nmin             1.0              1.0                     1.0   \n25%             1.0              1.0                     1.0   \n50%             1.0              1.0                     1.0   \n75%             1.0              1.0                     1.0   \nmax             1.0              1.0                     1.0   \n\n       initial_list_status_f  initial_list_status_w    issue_d_le  \\\ncount           68817.000000           68817.000000  68817.000000   \nmean                0.123879               0.876121      1.726172   \nstd                 0.329446               0.329446      0.743862   \nmin                 0.000000               0.000000      1.000000   \n25%                 0.000000               1.000000      1.000000   \n50%                 0.000000               1.000000      2.000000   \n75%                 0.000000               1.000000      2.000000   \nmax                 1.000000               1.000000      3.000000   \n\n       next_pymnt_d_le  \ncount     68817.000000  \nmean          4.616839  \nstd           0.486161  \nmin           4.000000  \n25%           4.000000  \n50%           5.000000  \n75%           5.000000  \nmax           5.000000  \n\n[8 rows x 92 columns]",
      "text/html": "<div>\n<style scoped>\n    .dataframe tbody tr th:only-of-type {\n        vertical-align: middle;\n    }\n\n    .dataframe tbody tr th {\n        vertical-align: top;\n    }\n\n    .dataframe thead th {\n        text-align: right;\n    }\n</style>\n<table border=\"1\" class=\"dataframe\">\n  <thead>\n    <tr style=\"text-align: right;\">\n      <th></th>\n      <th>loan_amnt</th>\n      <th>int_rate</th>\n      <th>installment</th>\n      <th>annual_inc</th>\n      <th>dti</th>\n      <th>delinq_2yrs</th>\n      <th>inq_last_6mths</th>\n      <th>open_acc</th>\n      <th>pub_rec</th>\n      <th>revol_bal</th>\n      <th>...</th>\n      <th>verification_status_Not Verified</th>\n      <th>verification_status_Source Verified</th>\n      <th>verification_status_Verified</th>\n      <th>pymnt_plan_n</th>\n      <th>hardship_flag_N</th>\n      <th>debt_settlement_flag_N</th>\n      <th>initial_list_status_f</th>\n      <th>initial_list_status_w</th>\n      <th>issue_d_le</th>\n      <th>next_pymnt_d_le</th>\n    </tr>\n  </thead>\n  <tbody>\n    <tr>\n      <th>count</th>\n      <td>68817.000000</td>\n      <td>68817.000000</td>\n      <td>68817.000000</td>\n      <td>6.881700e+04</td>\n      <td>68817.000000</td>\n      <td>68817.000000</td>\n      <td>68817.000000</td>\n      <td>68817.000000</td>\n      <td>68817.000000</td>\n      <td>68817.000000</td>\n      <td>...</td>\n      <td>68817.000000</td>\n      <td>68817.000000</td>\n      <td>68817.000000</td>\n      <td>68817.0</td>\n      <td>68817.0</td>\n      <td>68817.0</td>\n      <td>68817.000000</td>\n      <td>68817.000000</td>\n      <td>68817.000000</td>\n      <td>68817.000000</td>\n    </tr>\n    <tr>\n      <th>mean</th>\n      <td>16677.594562</td>\n      <td>0.127718</td>\n      <td>480.652863</td>\n      <td>8.821371e+04</td>\n      <td>21.778153</td>\n      <td>0.217766</td>\n      <td>0.497697</td>\n      <td>12.587340</td>\n      <td>0.126030</td>\n      <td>17604.142828</td>\n      <td>...</td>\n      <td>0.478007</td>\n      <td>0.373992</td>\n      <td>0.148001</td>\n      <td>1.0</td>\n      <td>1.0</td>\n      <td>1.0</td>\n      <td>0.123879</td>\n      <td>0.876121</td>\n      <td>1.726172</td>\n      <td>4.616839</td>\n    </tr>\n    <tr>\n      <th>std</th>\n      <td>10277.348590</td>\n      <td>0.048130</td>\n      <td>288.062432</td>\n      <td>1.155800e+05</td>\n      <td>20.199244</td>\n      <td>0.718367</td>\n      <td>0.758122</td>\n      <td>6.022869</td>\n      <td>0.336797</td>\n      <td>21835.880400</td>\n      <td>...</td>\n      <td>0.499520</td>\n      <td>0.483865</td>\n      <td>0.355104</td>\n      <td>0.0</td>\n      <td>0.0</td>\n      <td>0.0</td>\n      <td>0.329446</td>\n      <td>0.329446</td>\n      <td>0.743862</td>\n      <td>0.486161</td>\n    </tr>\n    <tr>\n      <th>min</th>\n      <td>1000.000000</td>\n      <td>0.060000</td>\n      <td>30.890000</td>\n      <td>4.000000e+01</td>\n      <td>0.000000</td>\n      <td>0.000000</td>\n      <td>0.000000</td>\n      <td>2.000000</td>\n      <td>0.000000</td>\n      <td>0.000000</td>\n      <td>...</td>\n      <td>0.000000</td>\n      <td>0.000000</td>\n      <td>0.000000</td>\n      <td>1.0</td>\n      <td>1.0</td>\n      <td>1.0</td>\n      <td>0.000000</td>\n      <td>0.000000</td>\n      <td>1.000000</td>\n      <td>4.000000</td>\n    </tr>\n    <tr>\n      <th>25%</th>\n      <td>9000.000000</td>\n      <td>0.088100</td>\n      <td>265.730000</td>\n      <td>5.000000e+04</td>\n      <td>13.890000</td>\n      <td>0.000000</td>\n      <td>0.000000</td>\n      <td>8.000000</td>\n      <td>0.000000</td>\n      <td>6293.000000</td>\n      <td>...</td>\n      <td>0.000000</td>\n      <td>0.000000</td>\n      <td>0.000000</td>\n      <td>1.0</td>\n      <td>1.0</td>\n      <td>1.0</td>\n      <td>0.000000</td>\n      <td>1.000000</td>\n      <td>1.000000</td>\n      <td>4.000000</td>\n    </tr>\n    <tr>\n      <th>50%</th>\n      <td>15000.000000</td>\n      <td>0.118000</td>\n      <td>404.560000</td>\n      <td>7.300000e+04</td>\n      <td>19.760000</td>\n      <td>0.000000</td>\n      <td>0.000000</td>\n      <td>11.000000</td>\n      <td>0.000000</td>\n      <td>12068.000000</td>\n      <td>...</td>\n      <td>0.000000</td>\n      <td>0.000000</td>\n      <td>0.000000</td>\n      <td>1.0</td>\n      <td>1.0</td>\n      <td>1.0</td>\n      <td>0.000000</td>\n      <td>1.000000</td>\n      <td>2.000000</td>\n      <td>5.000000</td>\n    </tr>\n    <tr>\n      <th>75%</th>\n      <td>24000.000000</td>\n      <td>0.155700</td>\n      <td>648.100000</td>\n      <td>1.040000e+05</td>\n      <td>26.660000</td>\n      <td>0.000000</td>\n      <td>1.000000</td>\n      <td>16.000000</td>\n      <td>0.000000</td>\n      <td>21735.000000</td>\n      <td>...</td>\n      <td>1.000000</td>\n      <td>1.000000</td>\n      <td>0.000000</td>\n      <td>1.0</td>\n      <td>1.0</td>\n      <td>1.0</td>\n      <td>0.000000</td>\n      <td>1.000000</td>\n      <td>2.000000</td>\n      <td>5.000000</td>\n    </tr>\n    <tr>\n      <th>max</th>\n      <td>40000.000000</td>\n      <td>0.308400</td>\n      <td>1676.230000</td>\n      <td>8.797500e+06</td>\n      <td>999.000000</td>\n      <td>18.000000</td>\n      <td>5.000000</td>\n      <td>72.000000</td>\n      <td>4.000000</td>\n      <td>587191.000000</td>\n      <td>...</td>\n      <td>1.000000</td>\n      <td>1.000000</td>\n      <td>1.000000</td>\n      <td>1.0</td>\n      <td>1.0</td>\n      <td>1.0</td>\n      <td>1.000000</td>\n      <td>1.000000</td>\n      <td>3.000000</td>\n      <td>5.000000</td>\n    </tr>\n  </tbody>\n</table>\n<p>8 rows × 92 columns</p>\n</div>"
     },
     "metadata": {},
     "execution_count": 58
    }
   ],
   "source": [
    "X.describe()"
   ]
  },
  {
   "cell_type": "code",
   "execution_count": 59,
   "metadata": {},
   "outputs": [
    {
     "output_type": "execute_result",
     "data": {
      "text/plain": "low_risk     68470\nhigh_risk      347\nName: loan_status, dtype: int64"
     },
     "metadata": {},
     "execution_count": 59
    }
   ],
   "source": [
    "# Check the balance of our target values\n",
    "y.value_counts()"
   ]
  },
  {
   "cell_type": "code",
   "execution_count": 60,
   "metadata": {},
   "outputs": [],
   "source": [
    "# Create X_train, X_test, y_train, y_test\n",
    "from sklearn.model_selection import train_test_split\n",
    "\n",
    "X_train, X_test, y_train, y_test = train_test_split(X, y, random_state=1, stratify=y)\n"
   ]
  },
  {
   "cell_type": "markdown",
   "metadata": {},
   "source": [
    "# Oversampling\n",
    "\n",
    "In this section, you will compare two oversampling algorithms to determine which algorithm results in the best performance. You will oversample the data using the naive random oversampling algorithm and the SMOTE algorithm. For each algorithm, be sure to complete the folliowing steps:\n",
    "\n",
    "1. View the count of the target classes using `Counter` from the collections library. \n",
    "3. Use the resampled data to train a logistic regression model.\n",
    "3. Calculate the balanced accuracy score from sklearn.metrics.\n",
    "4. Print the confusion matrix from sklearn.metrics.\n",
    "5. Generate a classication report using the `imbalanced_classification_report` from imbalanced-learn.\n",
    "\n",
    "Note: Use a random state of 1 for each sampling algorithm to ensure consistency between tests"
   ]
  },
  {
   "cell_type": "markdown",
   "metadata": {},
   "source": [
    "### Naive Random Oversampling"
   ]
  },
  {
   "cell_type": "code",
   "execution_count": 62,
   "metadata": {},
   "outputs": [
    {
     "output_type": "execute_result",
     "data": {
      "text/plain": "0    low_risk\n1    low_risk\n2    low_risk\n3    low_risk\n4    low_risk\nName: loan_status, dtype: object"
     },
     "metadata": {},
     "execution_count": 62
    }
   ],
   "source": [
    "# Resample the training data with the RandomOversampler\n",
    "from imblearn.over_sampling import RandomOverSampler\n",
    "\n",
    "ros = RandomOverSampler(random_state=1)\n",
    "X_resampled, y_resampled = ros.fit_resample(X_train, y_train)\n",
    "Counter(y_resampled)\n",
    "y_resampled.head()"
   ]
  },
  {
   "cell_type": "code",
   "execution_count": 63,
   "metadata": {},
   "outputs": [
    {
     "output_type": "execute_result",
     "data": {
      "text/plain": "LogisticRegression(C=1.0, class_weight=None, dual=False, fit_intercept=True,\n                   intercept_scaling=1, l1_ratio=None, max_iter=100,\n                   multi_class='auto', n_jobs=None, penalty='l2',\n                   random_state=1, solver='lbfgs', tol=0.0001, verbose=0,\n                   warm_start=False)"
     },
     "metadata": {},
     "execution_count": 63
    }
   ],
   "source": [
    "# Train the Logistic Regression model using the resampled data\n",
    "from sklearn.linear_model import LogisticRegression\n",
    "\n",
    "model = LogisticRegression(solver='lbfgs', random_state=1)\n",
    "model.fit(X_resampled, y_resampled)"
   ]
  },
  {
   "cell_type": "code",
   "execution_count": 64,
   "metadata": {},
   "outputs": [
    {
     "output_type": "execute_result",
     "data": {
      "text/plain": "0.6503599759881713"
     },
     "metadata": {},
     "execution_count": 64
    }
   ],
   "source": [
    "# Calculated the balanced accuracy score\n",
    "from sklearn.metrics import balanced_accuracy_score\n",
    "\n",
    "y_pred = model.predict(X_test)\n",
    "balanced_accuracy_score(y_test, y_pred)"
   ]
  },
  {
   "cell_type": "code",
   "execution_count": 65,
   "metadata": {},
   "outputs": [
    {
     "output_type": "execute_result",
     "data": {
      "text/plain": "array([[   55,    32],\n       [ 5674, 11444]], dtype=int64)"
     },
     "metadata": {},
     "execution_count": 65
    }
   ],
   "source": [
    "# Display the confusion matrix\n",
    "from sklearn.metrics import confusion_matrix\n",
    "\n",
    "y_pred = model.predict(X_test)\n",
    "confusion_matrix(y_test, y_pred)"
   ]
  },
  {
   "cell_type": "code",
   "execution_count": 66,
   "metadata": {},
   "outputs": [
    {
     "output_type": "stream",
     "name": "stdout",
     "text": "pre       rec       spe        f1       geo       iba       sup\n\n  high_risk       0.01      0.63      0.67      0.02      0.65      0.42        87\n   low_risk       1.00      0.67      0.63      0.80      0.65      0.42     17118\n\navg / total       0.99      0.67      0.63      0.80      0.65      0.42     17205\n\n"
    }
   ],
   "source": [
    "# Print the imbalanced classification report\n",
    "from imblearn.metrics import classification_report_imbalanced\n",
    "\n",
    "print(classification_report_imbalanced(y_test, y_pred))"
   ]
  },
  {
   "cell_type": "markdown",
   "metadata": {},
   "source": [
    "### SMOTE Oversampling"
   ]
  },
  {
   "cell_type": "code",
   "execution_count": 68,
   "metadata": {},
   "outputs": [
    {
     "output_type": "execute_result",
     "data": {
      "text/plain": "Counter({'low_risk': 51352, 'high_risk': 51352})"
     },
     "metadata": {},
     "execution_count": 68
    }
   ],
   "source": [
    "# Resample the training data with SMOTE\n",
    "from imblearn.over_sampling import SMOTE\n",
    "\n",
    "X_resampled, y_resampled = SMOTE(random_state=1, sampling_strategy=1.0).fit_resample(\n",
    "    X_train, y_train\n",
    ")\n",
    "from collections import Counter\n",
    "\n",
    "Counter(y_resampled)"
   ]
  },
  {
   "cell_type": "code",
   "execution_count": 69,
   "metadata": {},
   "outputs": [
    {
     "output_type": "execute_result",
     "data": {
      "text/plain": "LogisticRegression(C=1.0, class_weight=None, dual=False, fit_intercept=True,\n                   intercept_scaling=1, l1_ratio=None, max_iter=100,\n                   multi_class='auto', n_jobs=None, penalty='l2',\n                   random_state=1, solver='lbfgs', tol=0.0001, verbose=0,\n                   warm_start=False)"
     },
     "metadata": {},
     "execution_count": 69
    }
   ],
   "source": [
    "# Train the Logistic Regression model using the resampled data\n",
    "model = LogisticRegression(solver='lbfgs', random_state=1)\n",
    "model.fit(X_resampled, y_resampled)"
   ]
  },
  {
   "cell_type": "code",
   "execution_count": 70,
   "metadata": {},
   "outputs": [
    {
     "output_type": "execute_result",
     "data": {
      "text/plain": "0.6249400711491433"
     },
     "metadata": {},
     "execution_count": 70
    }
   ],
   "source": [
    "# Calculated the balanced accuracy score\n",
    "y_pred = model.predict(X_test)\n",
    "balanced_accuracy_score(y_test, y_pred)"
   ]
  },
  {
   "cell_type": "code",
   "execution_count": 71,
   "metadata": {},
   "outputs": [
    {
     "output_type": "execute_result",
     "data": {
      "text/plain": "array([[   52,    35],\n       [ 5954, 11164]], dtype=int64)"
     },
     "metadata": {},
     "execution_count": 71
    }
   ],
   "source": [
    "# Display the confusion matrix\n",
    "confusion_matrix(y_test, y_pred)"
   ]
  },
  {
   "cell_type": "code",
   "execution_count": 72,
   "metadata": {},
   "outputs": [
    {
     "output_type": "stream",
     "name": "stdout",
     "text": "pre       rec       spe        f1       geo       iba       sup\n\n  high_risk       0.01      0.60      0.65      0.02      0.62      0.39        87\n   low_risk       1.00      0.65      0.60      0.79      0.62      0.39     17118\n\navg / total       0.99      0.65      0.60      0.78      0.62      0.39     17205\n\n"
    }
   ],
   "source": [
    "# Print the imbalanced classification report\n",
    "print(classification_report_imbalanced(y_test, y_pred))"
   ]
  },
  {
   "cell_type": "markdown",
   "metadata": {},
   "source": [
    "# Undersampling\n",
    "\n",
    "In this section, you will test an undersampling algorithms to determine which algorithm results in the best performance compared to the oversampling algorithms above. You will undersample the data using the Cluster Centroids algorithm and complete the folliowing steps:\n",
    "\n",
    "1. View the count of the target classes using `Counter` from the collections library. \n",
    "3. Use the resampled data to train a logistic regression model.\n",
    "3. Calculate the balanced accuracy score from sklearn.metrics.\n",
    "4. Print the confusion matrix from sklearn.metrics.\n",
    "5. Generate a classication report using the `imbalanced_classification_report` from imbalanced-learn.\n",
    "\n",
    "Note: Use a random state of 1 for each sampling algorithm to ensure consistency between tests"
   ]
  },
  {
   "cell_type": "code",
   "execution_count": 76,
   "metadata": {},
   "outputs": [
    {
     "output_type": "execute_result",
     "data": {
      "text/plain": "Counter({'high_risk': 260, 'low_risk': 260})"
     },
     "metadata": {},
     "execution_count": 76
    }
   ],
   "source": [
    "# Resample the data using the ClusterCentroids resampler\n",
    "from imblearn.under_sampling import ClusterCentroids\n",
    "\n",
    "cc = ClusterCentroids(random_state=1)\n",
    "X_resampled, y_resampled = cc.fit_resample(X_train, y_train)\n",
    "\n",
    "from collections import Counter\n",
    "\n",
    "Counter(y_resampled)"
   ]
  },
  {
   "cell_type": "code",
   "execution_count": 77,
   "metadata": {},
   "outputs": [
    {
     "output_type": "execute_result",
     "data": {
      "text/plain": "LogisticRegression(C=1.0, class_weight=None, dual=False, fit_intercept=True,\n                   intercept_scaling=1, l1_ratio=None, max_iter=100,\n                   multi_class='auto', n_jobs=None, penalty='l2',\n                   random_state=1, solver='lbfgs', tol=0.0001, verbose=0,\n                   warm_start=False)"
     },
     "metadata": {},
     "execution_count": 77
    }
   ],
   "source": [
    "# Train the Logistic Regression model using the resampled data\n",
    "model = LogisticRegression(solver='lbfgs', random_state=1)\n",
    "model.fit(X_resampled, y_resampled)"
   ]
  },
  {
   "cell_type": "code",
   "execution_count": 78,
   "metadata": {},
   "outputs": [
    {
     "output_type": "execute_result",
     "data": {
      "text/plain": "0.6249400711491433"
     },
     "metadata": {},
     "execution_count": 78
    }
   ],
   "source": [
    "# Calculated the balanced accuracy score\n",
    "from sklearn.metrics import balanced_accuracy_score\n",
    "\n",
    "balanced_accuracy_score(y_test, y_pred)\n"
   ]
  },
  {
   "cell_type": "code",
   "execution_count": 79,
   "metadata": {},
   "outputs": [
    {
     "output_type": "execute_result",
     "data": {
      "text/plain": "array([[   52,    35],\n       [ 5954, 11164]], dtype=int64)"
     },
     "metadata": {},
     "execution_count": 79
    }
   ],
   "source": [
    "# Display the confusion matrix\n",
    "confusion_matrix(y_test, y_pred)"
   ]
  },
  {
   "cell_type": "code",
   "execution_count": 80,
   "metadata": {},
   "outputs": [
    {
     "output_type": "stream",
     "name": "stdout",
     "text": "pre       rec       spe        f1       geo       iba       sup\n\n  high_risk       0.01      0.60      0.65      0.02      0.62      0.39        87\n   low_risk       1.00      0.65      0.60      0.79      0.62      0.39     17118\n\navg / total       0.99      0.65      0.60      0.78      0.62      0.39     17205\n\n"
    }
   ],
   "source": [
    "# Print the imbalanced classification report\n",
    "from imblearn.metrics import classification_report_imbalanced\n",
    "print(classification_report_imbalanced(y_test, y_pred))"
   ]
  },
  {
   "cell_type": "markdown",
   "metadata": {},
   "source": [
    "# Combination (Over and Under) Sampling\n",
    "\n",
    "In this section, you will test a combination over- and under-sampling algorithm to determine if the algorithm results in the best performance compared to the other sampling algorithms above. You will resample the data using the SMOTEENN algorithm and complete the folliowing steps:\n",
    "\n",
    "1. View the count of the target classes using `Counter` from the collections library. \n",
    "3. Use the resampled data to train a logistic regression model.\n",
    "3. Calculate the balanced accuracy score from sklearn.metrics.\n",
    "4. Print the confusion matrix from sklearn.metrics.\n",
    "5. Generate a classication report using the `imbalanced_classification_report` from imbalanced-learn.\n",
    "\n",
    "Note: Use a random state of 1 for each sampling algorithm to ensure consistency between tests"
   ]
  },
  {
   "cell_type": "code",
   "execution_count": 85,
   "metadata": {},
   "outputs": [
    {
     "output_type": "execute_result",
     "data": {
      "text/plain": "Counter({'high_risk': 51351, 'low_risk': 46389})"
     },
     "metadata": {},
     "execution_count": 85
    }
   ],
   "source": [
    "# Resample the training data with SMOTEENN\n",
    "from imblearn.combine import SMOTEENN\n",
    "\n",
    "X_resampled, y_resampled = SMOTEENN(random_state=1, sampling_strategy=1.0).fit_resample(\n",
    "    X_train, y_train\n",
    ")\n",
    "from collections import Counter\n",
    "\n",
    "Counter(y_resampled)"
   ]
  },
  {
   "cell_type": "code",
   "execution_count": 86,
   "metadata": {},
   "outputs": [
    {
     "output_type": "execute_result",
     "data": {
      "text/plain": "LogisticRegression(C=1.0, class_weight=None, dual=False, fit_intercept=True,\n                   intercept_scaling=1, l1_ratio=None, max_iter=100,\n                   multi_class='auto', n_jobs=None, penalty='l2',\n                   random_state=1, solver='lbfgs', tol=0.0001, verbose=0,\n                   warm_start=False)"
     },
     "metadata": {},
     "execution_count": 86
    }
   ],
   "source": [
    "# Train the Logistic Regression model using the resampled data\n",
    "model = LogisticRegression(solver='lbfgs', random_state=1)\n",
    "model.fit(X_resampled, y_resampled)"
   ]
  },
  {
   "cell_type": "code",
   "execution_count": 87,
   "metadata": {},
   "outputs": [
    {
     "output_type": "execute_result",
     "data": {
      "text/plain": "0.6249400711491433"
     },
     "metadata": {},
     "execution_count": 87
    }
   ],
   "source": [
    "# Calculated the balanced accuracy score\n",
    "from sklearn.metrics import balanced_accuracy_score\n",
    "\n",
    "balanced_accuracy_score(y_test, y_pred)"
   ]
  },
  {
   "cell_type": "code",
   "execution_count": 88,
   "metadata": {},
   "outputs": [
    {
     "output_type": "execute_result",
     "data": {
      "text/plain": "array([[   52,    35],\n       [ 5954, 11164]], dtype=int64)"
     },
     "metadata": {},
     "execution_count": 88
    }
   ],
   "source": [
    "# Display the confusion matrix\n",
    "confusion_matrix(y_test, y_pred)"
   ]
  },
  {
   "cell_type": "code",
   "execution_count": 90,
   "metadata": {},
   "outputs": [
    {
     "output_type": "stream",
     "name": "stdout",
     "text": "pre       rec       spe        f1       geo       iba       sup\n\n  high_risk       0.01      0.60      0.65      0.02      0.62      0.39        87\n   low_risk       1.00      0.65      0.60      0.79      0.62      0.39     17118\n\navg / total       0.99      0.65      0.60      0.78      0.62      0.39     17205\n\n"
    }
   ],
   "source": [
    "# Print the imbalanced classification report\n",
    "#from imblearn.metrics import classification_report_imbalanced\n",
    "print(classification_report_imbalanced(y_test, y_pred))"
   ]
  },
  {
   "cell_type": "code",
   "execution_count": 33,
   "metadata": {},
   "outputs": [
    {
     "output_type": "stream",
     "name": "stdout",
     "text": "pre       rec       spe        f1       geo       iba       sup\n\n  high_risk       0.01      0.61      0.42      0.01      0.50      0.26        87\n   low_risk       1.00      0.42      0.61      0.59      0.50      0.25     17118\n\navg / total       0.99      0.42      0.61      0.59      0.50      0.25     17205\n\n"
    }
   ],
   "source": []
  },
  {
   "cell_type": "code",
   "execution_count": null,
   "metadata": {},
   "outputs": [],
   "source": []
  }
 ],
 "metadata": {
  "kernelspec": {
   "display_name": "Python 3",
   "language": "python",
   "name": "python3"
  },
  "language_info": {
   "codemirror_mode": {
    "name": "ipython",
    "version": 3
   },
   "file_extension": ".py",
   "mimetype": "text/x-python",
   "name": "python",
   "nbconvert_exporter": "python",
   "pygments_lexer": "ipython3",
   "version": "3.7.6-final"
  }
 },
 "nbformat": 4,
 "nbformat_minor": 2
}